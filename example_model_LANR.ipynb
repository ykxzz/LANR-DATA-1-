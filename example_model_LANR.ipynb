{
 "cells": [
  {
   "cell_type": "code",
   "execution_count": null,
   "id": "488c6c71",
   "metadata": {},
   "outputs": [],
   "source": [
    "import tensorflow as tf\n",
    "import tensorflow_quantum as tfq\n",
    "import cirq\n",
    "import sympy\n",
    "import numpy as np"
   ]
  },
  {
   "cell_type": "code",
   "execution_count": null,
   "id": "9e98c071",
   "metadata": {},
   "outputs": [],
   "source": [
    "#input coherent states\n",
    "def universal_onebit_C_j(bit,symbols):\n",
    "    return cirq.Circuit(\n",
    "        cirq.X(bit)**symbols[0],\n",
    "        cirq.Y(bit)**symbols[1],\n",
    "        cirq.Z(bit)**symbols[2])\n",
    "\n",
    "def controlled_U(control_qubit, target_qubit,symbols):\n",
    "    circuit = cirq.Circuit()\n",
    "    circuit += universal_onebit_C_j(control_qubit, symbols[0:2])\n",
    "    circuit += cirq.CZ(control_qubit, target_qubit)\n",
    "    circuit += universal_onebit_C_j(control_qubit, (-1)*symbols[0:2])\n",
    "    circuit += cirq.CZ(control_qubit, target_qubit)\n",
    "    circuit += universal_onebit_C_j(control_qubit, symbols[0:2])\n",
    "    return circuit\n",
    "\n",
    "def LANR_displacement_operator(input_qubits,symbols):\n",
    "    displacement_operator = cirq.Circuit()\n",
    "    circuit.append(cirq.x.on_each(input_qubits))\n",
    "    #circuit.append(cirq.y.on_each(input_qubits))\n",
    "    #circuit.append(cirq.z.on_each(input_qubits))\n",
    "    for control_qubit, target_qubit, in zip(input_qubits[1:],input_qubits):\n",
    "        displacement_operator += controlled_U(qubit, target_qubit, symbols[1:3])\n",
    "    # deepen this circuit as you need...\n",
    "    return displacement_operator"
   ]
  }
 ],
 "metadata": {
  "kernelspec": {
   "display_name": "Python 3 (ipykernel)",
   "language": "python",
   "name": "python3"
  },
  "language_info": {
   "codemirror_mode": {
    "name": "ipython",
    "version": 3
   },
   "file_extension": ".py",
   "mimetype": "text/x-python",
   "name": "python",
   "nbconvert_exporter": "python",
   "pygments_lexer": "ipython3",
   "version": "3.7.11"
  }
 },
 "nbformat": 4,
 "nbformat_minor": 5
}
